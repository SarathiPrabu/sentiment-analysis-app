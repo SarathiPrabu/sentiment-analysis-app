{
  "nbformat": 4,
  "nbformat_minor": 0,
  "metadata": {
    "colab": {
      "provenance": [],
      "gpuType": "T4",
      "authorship_tag": "ABX9TyNhiVuLv3LpDLiDeca2/rRo",
      "include_colab_link": true
    },
    "kernelspec": {
      "name": "python3",
      "display_name": "Python 3"
    },
    "language_info": {
      "name": "python"
    },
    "accelerator": "GPU"
  },
  "cells": [
    {
      "cell_type": "markdown",
      "metadata": {
        "id": "view-in-github",
        "colab_type": "text"
      },
      "source": [
        "<a href=\"https://colab.research.google.com/github/SarathiPrabu/sentiment-analysis-app/blob/main/sentimentAnalysis.ipynb\" target=\"_parent\"><img src=\"https://colab.research.google.com/assets/colab-badge.svg\" alt=\"Open In Colab\"/></a>"
      ]
    },
    {
      "cell_type": "code",
      "source": [
        "!pip install torch\n",
        "!pip install transformers\n",
        "!pip install streamlit\n",
        "!pip install pyngrok==5.0.4\n",
        "!npm install localtunnel"
      ],
      "metadata": {
        "id": "mj0ECSITDiAa"
      },
      "execution_count": null,
      "outputs": []
    },
    {
      "cell_type": "code",
      "source": [
        "%%writefile app.py\n",
        "\n",
        "\n",
        "from pyngrok import ngrok\n",
        "import streamlit as st\n",
        "from transformers import pipeline\n",
        "import torch\n",
        "import random\n",
        "# Check if GPU is available\n",
        "if torch.cuda.is_available():\n",
        "    device = 0\n",
        "else:\n",
        "    device = torch.device(\"cpu\")\n",
        "\n",
        "model_name = \"facebook/bart-large-mnli\"\n",
        "nlp_pipeline = pipeline(\"zero-shot-classification\", model=model_name, device=device)\n",
        "\n",
        "# Create a sentiment analysis pipeline using a specific model\n",
        "random_reviews = [\n",
        "    \"This movie was fantastic! I loved every minute of it.\",\n",
        "    \"The food at this restaurant is awful. I would not recommend it.\",\n",
        "    \"I had a great experience at this hotel. The staff was friendly and helpful.\",\n",
        "    \"The service was slow and the prices were too high. I was disappointed.\",\n",
        "    \"I absolutely adore this book. It's a must-read for everyone.\",\n",
        "]\n",
        "\n",
        "# Streamlit application title\n",
        "st.title(\"Sentiment Analysis - Hugging Space\")\n",
        "\n",
        "# Text input box\n",
        "text_input = st.text_area(\"Enter text for sentiment analysis\", value=random.choice(random_reviews))\n",
        "text_labels = [\"Positive\", \"Negative\", \"Neutral\"]\n",
        "\n",
        "# Analyze button\n",
        "if st.button(\"Analyze\"):\n",
        "    if text_input:\n",
        "        results = nlp_pipeline(text_input, text_labels)\n",
        "        sentiment = results[\"labels\"][0]\n",
        "        confidence = results[\"scores\"][0]\n",
        "\n",
        "        # Display the sentiment analysis results\n",
        "        st.write(\"Sentiment:\", sentiment)\n",
        "        st.write(\"Confidence:\", round(confidence*100,2),\"%\")\n",
        "\n",
        "    else:\n",
        "        st.warning(\"Please enter some text for analysis.\")\n",
        "\n"
      ],
      "metadata": {
        "colab": {
          "base_uri": "https://localhost:8080/"
        },
        "id": "uSj8xAlj6gZN",
        "outputId": "a497cd85-2e65-4625-804f-5aa2c7bfe384"
      },
      "execution_count": null,
      "outputs": [
        {
          "output_type": "stream",
          "name": "stdout",
          "text": [
            "Overwriting app.py\n"
          ]
        }
      ]
    },
    {
      "cell_type": "code",
      "source": [
        "!streamlit run app.py &>/content/logs.txt &"
      ],
      "metadata": {
        "id": "AnOvNfAD66IN"
      },
      "execution_count": null,
      "outputs": []
    },
    {
      "cell_type": "code",
      "source": [
        "import urllib\n",
        "print(\"Password/Enpoint IP for localtunnel is:\",urllib.request.urlopen('https://ipv4.icanhazip.com').read().decode('utf8').strip(\"\\n\"))"
      ],
      "metadata": {
        "colab": {
          "base_uri": "https://localhost:8080/"
        },
        "id": "ILAUhim88bRQ",
        "outputId": "1a3f6a22-3713-4c08-d7b1-1661daf82398"
      },
      "execution_count": null,
      "outputs": [
        {
          "output_type": "stream",
          "name": "stdout",
          "text": [
            "Password/Enpoint IP for localtunnel is: 35.204.219.107\n"
          ]
        }
      ]
    },
    {
      "cell_type": "code",
      "source": [
        "!npx localtunnel --port 8501"
      ],
      "metadata": {
        "colab": {
          "base_uri": "https://localhost:8080/"
        },
        "id": "nKI3WWb16-1x",
        "outputId": "273194fc-7bcf-4f18-bd82-78297088d243"
      },
      "execution_count": null,
      "outputs": [
        {
          "output_type": "stream",
          "name": "stdout",
          "text": [
            "\u001b[K\u001b[?25hnpx: installed 22 in 1.336s\n",
            "your url is: https://bitter-trains-thank.loca.lt\n",
            "^C\n"
          ]
        }
      ]
    }
  ]
}